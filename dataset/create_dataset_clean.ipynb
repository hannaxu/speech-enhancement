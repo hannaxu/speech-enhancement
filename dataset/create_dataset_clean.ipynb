{
  "nbformat": 4,
  "nbformat_minor": 0,
  "metadata": {
    "colab": {
      "name": "create_dataset_clean.ipynb",
      "provenance": []
    },
    "kernelspec": {
      "name": "python3",
      "display_name": "Python 3"
    },
    "language_info": {
      "name": "python"
    }
  },
  "cells": [
    {
      "cell_type": "code",
      "execution_count": null,
      "metadata": {
        "id": "bYPRt6J5k31X"
      },
      "outputs": [],
      "source": [
        "!tar -tf test-clean.tar.gz"
      ]
    },
    {
      "cell_type": "code",
      "source": [
        "import random\n",
        "speakersM = [260, 672, 2300, 2830, 6930, 7127, 7729, 8230, 61, 908]\n",
        "speakersF = [1221, 3729, 4446, 4507, 4992, 8463, 8555, 121, 2961, 5142]"
      ],
      "metadata": {
        "id": "9afgzCfKrWaX"
      },
      "execution_count": null,
      "outputs": []
    },
    {
      "cell_type": "code",
      "source": [
        "import os"
      ],
      "metadata": {
        "id": "FKtkWPrIoF_B"
      },
      "execution_count": null,
      "outputs": []
    },
    {
      "cell_type": "code",
      "source": [
        "for m in speakersM:\n",
        "  os.system(f\"tar -xf test-clean.tar.gz LibriSpeech/test-clean/{m}\")"
      ],
      "metadata": {
        "id": "E75FULlvs4DA"
      },
      "execution_count": null,
      "outputs": []
    },
    {
      "cell_type": "code",
      "source": [
        "for f in speakersF:\n",
        "  os.system(f\"tar -xf test-clean.tar.gz LibriSpeech/test-clean/{f}\")"
      ],
      "metadata": {
        "id": "ZGQJmmmZtEel"
      },
      "execution_count": null,
      "outputs": []
    },
    {
      "cell_type": "code",
      "source": [
        "!pip install pydub"
      ],
      "metadata": {
        "id": "G6ui5gtntMdl"
      },
      "execution_count": null,
      "outputs": []
    },
    {
      "cell_type": "code",
      "source": [
        "from pydub import AudioSegment\n",
        "speakers = speakersF+speakersM"
      ],
      "metadata": {
        "id": "tIWA97vzvFn-"
      },
      "execution_count": null,
      "outputs": []
    },
    {
      "cell_type": "code",
      "source": [
        "speakers = [2300,\n",
        " 2830,\n",
        " 6930,\n",
        " 7127,\n",
        " 7729,\n",
        " 8230,\n",
        " 61,\n",
        " 908]"
      ],
      "metadata": {
        "id": "zL7bMp6M3UBd"
      },
      "execution_count": null,
      "outputs": []
    },
    {
      "cell_type": "code",
      "source": [
        "for speaker in speakers:\n",
        "  count = 0\n",
        "  path = f\"LibriSpeech/test-clean/{speaker}/\"\n",
        "  books = os.listdir(path)\n",
        "  for book in books:\n",
        "    if count == 15:\n",
        "      break\n",
        "    audios = os.listdir(path+book)\n",
        "    for audio in audios:\n",
        "      if 'trans' in audio:\n",
        "        newpath = path+book+'/'+audio\n",
        "        os.system(f'mv {newpath} Dataset_Clean/')\n",
        "        continue\n",
        "      sound = AudioSegment.from_file(path+book+'/'+audio, format=\"flac\")\n",
        "      if sound.duration_seconds >= 3 and sound.duration_seconds <= 5:\n",
        "        count += 1\n",
        "        audio = audio.split('.')[0]\n",
        "        sound.export(f'Dataset_Clean/{audio}.wav', format='wav', bitrate='16k')"
      ],
      "metadata": {
        "id": "XHdM-St1vXF7"
      },
      "execution_count": null,
      "outputs": []
    },
    {
      "cell_type": "code",
      "source": [
        "len([i for i in os.listdir('Dataset_Clean') if 'wav' in i])"
      ],
      "metadata": {
        "id": "mXg2qW3BvwvC"
      },
      "execution_count": null,
      "outputs": []
    },
    {
      "cell_type": "code",
      "source": [
        "!mkdir Dataset_Clean/transcription\n",
        "!mkdir Dataset_Clean/train\n",
        "!mkdir Dataset_Clean/test"
      ],
      "metadata": {
        "id": "-lkd5Fitx5Oy"
      },
      "execution_count": null,
      "outputs": []
    },
    {
      "cell_type": "code",
      "source": [
        "%cd Dataset_Clean/"
      ],
      "metadata": {
        "id": "fEpZg0Sf4r6v"
      },
      "execution_count": null,
      "outputs": []
    },
    {
      "cell_type": "code",
      "source": [
        "files = os.listdir('.')\n",
        "audio = [i for i in files if 'wav' in i]\n",
        "trans = [i for i in files if 'txt' in i]"
      ],
      "metadata": {
        "id": "eRgH6daB4w4Q"
      },
      "execution_count": null,
      "outputs": []
    },
    {
      "cell_type": "code",
      "source": [
        "for t in trans:\n",
        "  os.system(f'mv {t} ./transcription')"
      ],
      "metadata": {
        "id": "uYnDvpjC5E-Y"
      },
      "execution_count": null,
      "outputs": []
    },
    {
      "cell_type": "code",
      "source": [
        "len(audio)"
      ],
      "metadata": {
        "id": "iK74ggAE5Iwo"
      },
      "execution_count": null,
      "outputs": []
    },
    {
      "cell_type": "code",
      "source": [
        "test = random.sample(audio, 74)"
      ],
      "metadata": {
        "id": "2nRLc_hl5YXm"
      },
      "execution_count": null,
      "outputs": []
    },
    {
      "cell_type": "code",
      "source": [
        "%cd .."
      ],
      "metadata": {
        "id": "MLOR9ixx8r19"
      },
      "execution_count": null,
      "outputs": []
    },
    {
      "cell_type": "code",
      "source": [
        "!zip -r dataset_clean.zip Dataset_Clean"
      ],
      "metadata": {
        "id": "K6KC6ssw60Vh"
      },
      "execution_count": null,
      "outputs": []
    },
    {
      "cell_type": "code",
      "source": [
        ""
      ],
      "metadata": {
        "id": "9eASbIFS8Tcm"
      },
      "execution_count": null,
      "outputs": []
    }
  ]
}