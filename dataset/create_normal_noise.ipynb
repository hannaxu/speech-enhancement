{
  "nbformat": 4,
  "nbformat_minor": 0,
  "metadata": {
    "colab": {
      "name": "create_normal_noise.ipynb",
      "provenance": []
    },
    "kernelspec": {
      "name": "python3",
      "display_name": "Python 3"
    },
    "language_info": {
      "name": "python"
    }
  },
  "cells": [
    {
      "cell_type": "code",
      "source": [
        "!unzip MachineryNoise.zip -d MachineryNoise"
      ],
      "metadata": {
        "id": "xmpTNmcRiuDA"
      },
      "execution_count": null,
      "outputs": []
    },
    {
      "cell_type": "code",
      "source": [
        "!unzip Nonspeech.zip -d Nonspeech"
      ],
      "metadata": {
        "id": "KKfDAODW7Jff"
      },
      "execution_count": null,
      "outputs": []
    },
    {
      "cell_type": "code",
      "source": [
        "!rm -rf normal_train_noise/.ipynb_checkpoints/"
      ],
      "metadata": {
        "id": "DsLaPeTFhgcu"
      },
      "execution_count": null,
      "outputs": []
    },
    {
      "cell_type": "code",
      "source": [
        "import scipy.io.wavfile as wav\n",
        "import os\n",
        "import librosa"
      ],
      "metadata": {
        "id": "RjxVIKcXkML2"
      },
      "execution_count": null,
      "outputs": []
    },
    {
      "cell_type": "code",
      "source": [
        "# each is 30 sec, too long so 10 sec, 10 sec\n",
        "# discard first and last 5 sec\n",
        "path = 'MachineryNoise/MachineryNoise/'\n",
        "files = os.listdir(path)\n",
        "out_path = 'normal_train_noise/'\n",
        "for f in files:\n",
        "  # convert 44khz to 16khz\n",
        "  audio, fs = librosa.load(path+f, sr=16000, mono=True)\n",
        "  l = len(audio)\n",
        "  # about 4, 5, 6, 8, 4, 3 sec\n",
        "  lengths = [0, l//8, l//6, l//5, l//4, l//8]\n",
        "  lengths.append(len(audio)-sum(lengths))\n",
        "  for i in range(1, len(lengths)):\n",
        "    lengths[i] += lengths[i-1]\n",
        "  # cut off .wav\n",
        "  new_f = f[:-4]\n",
        "  for i in range(1, len(lengths)):\n",
        "    wav.write(out_path+new_f+f'_{i-1}.wav', fs, audio[lengths[i-1]:lengths[i]]) "
      ],
      "metadata": {
        "id": "0OcXwMo25iKV"
      },
      "execution_count": null,
      "outputs": []
    },
    {
      "cell_type": "code",
      "source": [
        "# convert nonspeech from 20khz to 16khz\n",
        "path = 'normal_train_noise/'\n",
        "files = [i for i in os.listdir(path) if len(i) < 8]\n",
        "assert len(files) == 99\n",
        "for f in files:\n",
        "  audio, fs = librosa.load(path+f, sr=16000, mono=True)\n",
        "  wav.write(out_path+f, fs, audio)"
      ],
      "metadata": {
        "id": "RPOwKHFHyZIj"
      },
      "execution_count": null,
      "outputs": []
    },
    {
      "cell_type": "code",
      "source": [
        "mach = [i for i in os.listdir('normal_train_noise') if '_5.wav' in i]\n",
        "# 694-675 = 19, get rid of \n",
        "for i in range(19):\n",
        "  os.popen(f'rm {out_path+mach[i]}')"
      ],
      "metadata": {
        "id": "a5yjwGZKnnww"
      },
      "execution_count": null,
      "outputs": []
    },
    {
      "cell_type": "code",
      "source": [
        "print(len(os.listdir(out_path)))\n",
        "assert len(os.listdir(out_path)) == 675"
      ],
      "metadata": {
        "colab": {
          "base_uri": "https://localhost:8080/"
        },
        "id": "f1yn3M8cspe5",
        "outputId": "ba52469a-94a3-4bb8-98c8-d2c48b982301"
      },
      "execution_count": null,
      "outputs": [
        {
          "output_type": "stream",
          "name": "stdout",
          "text": [
            "675\n"
          ]
        }
      ]
    },
    {
      "cell_type": "code",
      "source": [
        "!rm -rf set/train_noise/\n",
        "\n",
        "!cp -r normal_train_noise/ set/train_noise"
      ],
      "metadata": {
        "id": "Kna7eGb5u1Dt"
      },
      "execution_count": null,
      "outputs": []
    },
    {
      "cell_type": "code",
      "source": [
        "fs, _ = wav.read('/content/set/train_noise/Machinery101_0.wav')\n",
        "assert fs == 16000\n",
        "fs, _ = wav.read('/content/set/train_clean_speech/001364.wav')\n",
        "assert fs == 16000\n",
        "fs, _ = wav.read('/content/set/test_noisy_speech/adv-long2long-000003.wav')\n",
        "assert fs == 16000\n",
        "fs, _ = wav.read('/content/set/test_clean_speech/000003.wav')\n",
        "assert fs == 16000"
      ],
      "metadata": {
        "id": "veFxHb030dEA"
      },
      "execution_count": null,
      "outputs": []
    },
    {
      "cell_type": "code",
      "source": [
        "!tar -czf test_train_split_normal.tar.gz set/"
      ],
      "metadata": {
        "id": "JQxTz-ylu7gY"
      },
      "execution_count": null,
      "outputs": []
    }
  ]
}