{
  "nbformat": 4,
  "nbformat_minor": 0,
  "metadata": {
    "colab": {
      "name": "finetune_normal.ipynb",
      "provenance": [],
      "collapsed_sections": []
    },
    "kernelspec": {
      "name": "python3",
      "display_name": "Python 3"
    },
    "language_info": {
      "name": "python"
    },
    "accelerator": "GPU"
  },
  "cells": [
    {
      "cell_type": "code",
      "execution_count": null,
      "metadata": {
        "id": "YLBEE12I14AT"
      },
      "outputs": [],
      "source": [
        "!git clone https://github.com/anicolson/DeepXi.git\n",
        "%cd DeepXi\n",
        "!pip install -r requirements.txt"
      ]
    },
    {
      "cell_type": "code",
      "source": [
        "# in DeepXi/run.sh\n",
        "# --min_snr 20 \n",
        "# --max_snr 36\n",
        "# --snr_inter 2 \n",
        "# --test_epoch 400\n",
        "# --max_epochs 400\n",
        "# --sample_size 75\n",
        "# --resume_epoch 199\n",
        "\n",
        "# --val_flag 0\n",
        "# --verbose 1\n",
        "# --log_iter 1\n",
        "# self.snr_levels = list(range(self.min_snr, self.max_snr + 1, snr_inter))\n",
        "# resume_epoch 199\n",
        "# change set"
      ],
      "metadata": {
        "id": "mCrOfPDY6fh5"
      },
      "execution_count": null,
      "outputs": []
    },
    {
      "cell_type": "code",
      "source": [
        "!tar -xzf ../test_train_split_normal.tar.gz set"
      ],
      "metadata": {
        "id": "5D754qeD_FQs"
      },
      "execution_count": null,
      "outputs": []
    },
    {
      "cell_type": "code",
      "source": [
        "!rm -rf data\n",
        "!rm -rf log\n",
        "!rm -rf set\n",
        "!rm -rf ../sample_data"
      ],
      "metadata": {
        "id": "ZBu2ZJyD3cux"
      },
      "execution_count": null,
      "outputs": []
    },
    {
      "cell_type": "code",
      "source": [
        "!mv ../run.sh ."
      ],
      "metadata": {
        "id": "DlJDBa3UvgtI"
      },
      "execution_count": null,
      "outputs": []
    },
    {
      "cell_type": "code",
      "source": [
        "!chmod +x run.sh"
      ],
      "metadata": {
        "id": "gLgUtTkJwmA3"
      },
      "execution_count": null,
      "outputs": []
    },
    {
      "cell_type": "code",
      "source": [
        "!./run.sh VER=\"mhanet-1.1c\" TRAIN=1 GAIN=\"mmse-lsa\""
      ],
      "metadata": {
        "id": "Lvgf94U12SUu"
      },
      "execution_count": null,
      "outputs": []
    },
    {
      "cell_type": "code",
      "source": [
        "!pip install pesq"
      ],
      "metadata": {
        "id": "g0MEO2A8-M03"
      },
      "execution_count": null,
      "outputs": []
    },
    {
      "cell_type": "code",
      "source": [
        "!pip install pystoi"
      ],
      "metadata": {
        "id": "jX677Cps-Ugu"
      },
      "execution_count": null,
      "outputs": []
    },
    {
      "cell_type": "code",
      "source": [
        "!./run.sh VER=\"mhanet-1.1c\" TEST=1 GAIN=\"mmse-lsa\""
      ],
      "metadata": {
        "id": "q41zusNG-i2o"
      },
      "execution_count": null,
      "outputs": []
    },
    {
      "cell_type": "code",
      "source": [
        "!tar -cvzf ../mhanet_adv_model.tar.gz model/mhanet-1.1c/epoch-399"
      ],
      "metadata": {
        "id": "eJetxDbMAX_B"
      },
      "execution_count": null,
      "outputs": []
    },
    {
      "cell_type": "code",
      "source": [
        "!tar -cvzf ../mhanet_adv_log.tar.gz log"
      ],
      "metadata": {
        "id": "6OEZVwW5ImlG"
      },
      "execution_count": null,
      "outputs": []
    },
    {
      "cell_type": "code",
      "source": [
        "!tar -cvzf ../mhanet_adv_data.tar.gz data"
      ],
      "metadata": {
        "id": "XCCFc0pmIsDX"
      },
      "execution_count": null,
      "outputs": []
    },
    {
      "cell_type": "code",
      "source": [
        "!rm -rf log"
      ],
      "metadata": {
        "id": "OstFk-GMCEKE"
      },
      "execution_count": null,
      "outputs": []
    },
    {
      "cell_type": "code",
      "source": [
        "# change test epoch to 200, pre-tuning\n",
        "!./run.sh VER=\"mhanet-1.1c\" TEST=1 GAIN=\"mmse-lsa\""
      ],
      "metadata": {
        "id": "L8gWyRRRCHdh"
      },
      "execution_count": null,
      "outputs": []
    },
    {
      "cell_type": "code",
      "source": [
        "!tar -cvzf ../mhanet_log.tar.gz log"
      ],
      "metadata": {
        "id": "Lz0wHti-DX-k"
      },
      "execution_count": null,
      "outputs": []
    },
    {
      "cell_type": "code",
      "source": [
        "from google.colab import files\n",
        "files.download(\"mhanet_adv.tar.gz\")\n",
        "files.download(\"mhanet_adv_log.tar.gz\")\n",
        "files.download(\"mhanet_adv_data.tar.gz\")"
      ],
      "metadata": {
        "id": "afPbNiG1JLq7"
      },
      "execution_count": null,
      "outputs": []
    }
  ]
}