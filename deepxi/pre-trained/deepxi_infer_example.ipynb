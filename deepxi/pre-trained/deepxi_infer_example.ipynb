{
  "nbformat": 4,
  "nbformat_minor": 0,
  "metadata": {
    "colab": {
      "name": "deepxi_infer_example.ipynb",
      "provenance": [],
      "collapsed_sections": []
    },
    "kernelspec": {
      "name": "python3",
      "display_name": "Python 3"
    },
    "language_info": {
      "name": "python"
    },
    "accelerator": "GPU"
  },
  "cells": [
    {
      "cell_type": "markdown",
      "metadata": {
        "id": "J6zxQFJatV7u"
      },
      "source": [
        "### Deep Xi-MHANET1.1c"
      ]
    },
    {
      "cell_type": "code",
      "metadata": {
        "id": "zyeFHm5m_2Pj"
      },
      "source": [
        "!git clone https://github.com/anicolson/DeepXi.git"
      ],
      "execution_count": null,
      "outputs": []
    },
    {
      "cell_type": "code",
      "metadata": {
        "id": "tYoL06MCu8gq"
      },
      "source": [
        "%cd DeepXi/"
      ],
      "execution_count": null,
      "outputs": []
    },
    {
      "cell_type": "code",
      "metadata": {
        "id": "97kSI6zbufAt"
      },
      "source": [
        "!pip install -r requirements.txt"
      ],
      "execution_count": null,
      "outputs": []
    },
    {
      "cell_type": "code",
      "metadata": {
        "id": "VoIbI0k0-Rwi"
      },
      "source": [
        "!tar -zxvf ../adversarial-examples-A.tar.gz"
      ],
      "execution_count": null,
      "outputs": []
    },
    {
      "cell_type": "code",
      "metadata": {
        "id": "I6Ahh9U2_lTR"
      },
      "source": [
        "!chmod +x run.sh"
      ],
      "execution_count": null,
      "outputs": []
    },
    {
      "cell_type": "code",
      "metadata": {
        "id": "U8szHL6F3cYC"
      },
      "source": [
        "!./run.sh INFER=1 GAIN=\"mmse-lsa\" VER='mhanet-1.1c'"
      ],
      "execution_count": null,
      "outputs": []
    }
  ]
}