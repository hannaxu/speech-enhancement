{
  "nbformat": 4,
  "nbformat_minor": 0,
  "metadata": {
    "colab": {
      "name": "deepxi_speech1.ipynb",
      "provenance": [],
      "collapsed_sections": []
    },
    "kernelspec": {
      "name": "python3",
      "display_name": "Python 3"
    },
    "language_info": {
      "name": "python"
    },
    "accelerator": "GPU"
  },
  "cells": [
    {
      "cell_type": "code",
      "metadata": {
        "id": "qL9GFpNnvm1d"
      },
      "source": [
        "from google.colab import drive\n",
        "drive.mount('/content/drive/')\n",
        "%cd drive/MyDrive/IW06-07/deepxi"
      ],
      "execution_count": null,
      "outputs": []
    },
    {
      "cell_type": "code",
      "metadata": {
        "id": "XqC7TkwKXXRb"
      },
      "source": [
        "# choose python 3.6\n",
        "!update-alternatives --config python3\n",
        "!apt install python3-pip\n",
        "!python3 -m pip install --upgrade pip\n",
        "!pip3 install deepspeech==0.1.0"
      ],
      "execution_count": null,
      "outputs": []
    },
    {
      "cell_type": "code",
      "metadata": {
        "id": "r30dwdKjXj2d"
      },
      "source": [
        "import wave\n",
        "import numpy as np\n",
        "import torch\n",
        "import torchaudio\n",
        "# from jiwer import compute_measures\n",
        "import pickle\n",
        "import os"
      ],
      "execution_count": null,
      "outputs": []
    },
    {
      "cell_type": "code",
      "metadata": {
        "id": "SrObS5PbX2cY"
      },
      "source": [
        "def convert(audio):\n",
        "  stream = os.popen(f'deepspeech ../models/output_graph.pb {audio} ../models/alphabet.txt')\n",
        "  output = stream.read()\n",
        "  return output.strip()"
      ],
      "execution_count": null,
      "outputs": []
    },
    {
      "cell_type": "code",
      "metadata": {
        "id": "iBcUiV6zvqhQ"
      },
      "source": [
        "enh_path = './DeepXi/out/mhanet-1.1c/mmse-lsa'\n",
        "adv_path = './DeepXi/Adversarial_Examples'\n",
        "grounds = ['/long-ground.txt', '/medium-ground.txt', '/short-ground.txt']\n",
        "files = ['/long-signals.txt', '/medium-signals.txt', '/short-signals.txt']"
      ],
      "execution_count": null,
      "outputs": []
    },
    {
      "cell_type": "code",
      "metadata": {
        "id": "kSFPOYVPz-zp"
      },
      "source": [
        "trans_dict = {}\n",
        "translations = []\n",
        "for f, g in zip(files, grounds):\n",
        "  t = open(adv_path+f, 'r')\n",
        "  text = t.read().strip().split('\\n')\n",
        "  gr = open(adv_path+g, 'r')\n",
        "  ground = gr.read().strip().split('\\n')\n",
        "  trans = {}\n",
        "  for i in range(2, 102):\n",
        "    temp = {}\n",
        "    temp['base'] = ground[i-2].split('\\t')[1]\n",
        "    ori_trans = convert(adv_path + '/' + text[i])\n",
        "    enh_ori_trans = convert(enh_path + '/' + text[i])\n",
        "    # long, medium, short adv\n",
        "    lms = (text[i+101], text[i+2*101], text[i+3*101])\n",
        "    adv_trans = [convert(adv_path+'/'+name) for name in lms]\n",
        "    enh_trans = [convert(enh_path+'/'+name) for name in lms]\n",
        "    temp['ori'] = ori_trans\n",
        "    temp['adv'] = adv_trans\n",
        "    temp['enh'] = enh_trans\n",
        "    temp['enh_ori'] = enh_ori_trans\n",
        "    trans[text[i]] = temp\n",
        "  with open(f'deepxi_trans1{len(translations)}.pickle', 'wb') as e:\n",
        "    pickle.dump(trans, e, protocol=pickle.HIGHEST_PROTOCOL)\n",
        "  translations.append(trans)\n",
        "  t.close()\n",
        "  gr.close()\n",
        "\n",
        "trans_dict['long'] = translations[0]\n",
        "trans_dict['medium'] = translations[1]\n",
        "trans_dict['short'] = translations[2]"
      ],
      "execution_count": null,
      "outputs": []
    },
    {
      "cell_type": "code",
      "metadata": {
        "id": "bYW7IzjsvIKh"
      },
      "source": [
        "trans_dict['long'] = translations[0]\n",
        "trans_dict['medium'] = translations[1]\n",
        "trans_dict['short'] = translations[2]"
      ],
      "execution_count": null,
      "outputs": []
    },
    {
      "cell_type": "code",
      "source": [
        "trans_dict['short']['sample-006936.wav']"
      ],
      "metadata": {
        "id": "gsieIqFb68XK"
      },
      "execution_count": null,
      "outputs": []
    },
    {
      "cell_type": "code",
      "metadata": {
        "id": "VhXzduIQcCCA"
      },
      "source": [
        "with open('deepxi_trans1.pickle', 'wb') as e:\n",
        "  pickle.dump(trans_dict, e, protocol=pickle.HIGHEST_PROTOCOL)"
      ],
      "execution_count": null,
      "outputs": []
    },
    {
      "cell_type": "code",
      "metadata": {
        "id": "ZgD3MEsstqF1"
      },
      "source": [
        "import pickle"
      ],
      "execution_count": null,
      "outputs": []
    },
    {
      "cell_type": "code",
      "metadata": {
        "id": "fGY5DNsDv3m-"
      },
      "source": [
        "wer = {}\n",
        "with open('deepxi_trans1.pickle', 'rb') as e:\n",
        "  wer = pickle.load(e)"
      ],
      "execution_count": null,
      "outputs": []
    },
    {
      "cell_type": "code",
      "metadata": {
        "id": "BSCh9rnHtmFa"
      },
      "source": [
        "wer.keys()"
      ],
      "execution_count": null,
      "outputs": []
    },
    {
      "cell_type": "code",
      "metadata": {
        "id": "IYikTjJB3Ifn"
      },
      "source": [
        "wer['short']['sample-006936.wav']"
      ],
      "execution_count": null,
      "outputs": []
    }
  ]
}