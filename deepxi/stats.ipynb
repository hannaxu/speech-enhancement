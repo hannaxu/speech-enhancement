{
  "nbformat": 4,
  "nbformat_minor": 0,
  "metadata": {
    "colab": {
      "name": "stats.ipynb",
      "provenance": [],
      "collapsed_sections": []
    },
    "kernelspec": {
      "name": "python3",
      "display_name": "Python 3"
    },
    "language_info": {
      "name": "python"
    }
  },
  "cells": [
    {
      "cell_type": "code",
      "source": [
        "from google.colab import drive\n",
        "drive.mount('/content/drive/')\n",
        "%cd drive/MyDrive/IW06-07/deepxi"
      ],
      "metadata": {
        "id": "q88WLjAi0Blo"
      },
      "execution_count": null,
      "outputs": []
    },
    {
      "cell_type": "code",
      "source": [
        "!pip3 install jiwer"
      ],
      "metadata": {
        "id": "cVtaOcN70yOP"
      },
      "execution_count": null,
      "outputs": []
    },
    {
      "cell_type": "code",
      "execution_count": null,
      "metadata": {
        "id": "hmAmTz2-lN55"
      },
      "outputs": [],
      "source": [
        "import pickle\n",
        "from jiwer import wer, cer, RemoveWhiteSpace"
      ]
    },
    {
      "cell_type": "code",
      "source": [
        "trans = []\n",
        "with open('deepxi_trans1long.pickle', 'rb') as e:\n",
        "  trans.append(pickle.load(e))\n",
        "with open('deepxi_trans1medium.pickle', 'rb') as e:\n",
        "  trans.append(pickle.load(e))\n",
        "with open('deepxi_trans1short.pickle', 'rb') as e:\n",
        "  trans.append(pickle.load(e))\n",
        "\n",
        "trans_dict = {}\n",
        "trans_dict['long'] = trans[0]\n",
        "trans_dict['medium'] = trans[1]\n",
        "trans_dict['short'] = trans[2]"
      ],
      "metadata": {
        "id": "BunPNdEaXLC4"
      },
      "execution_count": null,
      "outputs": []
    },
    {
      "cell_type": "code",
      "source": [
        "trans_dict = {}\n",
        "with open('deepxi_trans41_finetuned_normal.pickle', 'rb') as e:\n",
        "  trans_dict = pickle.load(e)"
      ],
      "metadata": {
        "id": "OuL2cEmO5QDb"
      },
      "execution_count": null,
      "outputs": []
    },
    {
      "cell_type": "code",
      "source": [
        "def calc_stat(stat):  \n",
        "  total_stat = {}\n",
        "  num_stat = 2\n",
        "  total_stat['long-long'] = [0]*num_stat\n",
        "  total_stat['long-medium'] = [0]*num_stat\n",
        "  total_stat['long-short'] = [0]*num_stat\n",
        "  total_stat['medium-long'] = [0]*num_stat\n",
        "  total_stat['medium-medium'] = [0]*num_stat\n",
        "  total_stat['medium-short'] = [0]*num_stat\n",
        "  total_stat['short-long'] = [0]*num_stat\n",
        "  total_stat['short-medium'] = [0]*num_stat\n",
        "  total_stat['short-short'] = [0]*num_stat\n",
        "  # long, medium, short\n",
        "  total_stat['original-ground'] = [[0, 0, 0], [0,0,0]]\n",
        "  for i, length in enumerate(trans_dict):\n",
        "    for audio in trans_dict[length]:\n",
        "      base = trans_dict[length][audio]['base']\n",
        "      ori = trans_dict[length][audio]['ori']\n",
        "      adv = trans_dict[length][audio]['adv']\n",
        "      enh = trans_dict[length][audio]['enh']\n",
        "      enh_ori = trans_dict[length][audio]['enh_ori']\n",
        "      # total_stat['original-ground'][0][i] += stat(base, ori)\n",
        "      # total_stat['original-ground'][1][i] += stat(base, enh_ori)\n",
        "      for j, l in enumerate(['long', 'medium', 'short']):\n",
        "        key = length+'-'+l\n",
        "        # add_stat = [stat(ori, enh_ori), stat(ori, adv[j]), stat(ori, enh[j]), stat(enh[j], adv[j])]\n",
        "        add_stat = [stat(ori, adv[j]), stat(ori, enh[j])]\n",
        "        for idx in range(len(total_stat[key])):\n",
        "          total_stat[key][idx] += add_stat[idx]\n",
        "\n",
        "  return total_stat"
      ],
      "metadata": {
        "id": "mf7gmvxxzYkR"
      },
      "execution_count": null,
      "outputs": []
    },
    {
      "cell_type": "markdown",
      "source": [
        "#Calculate WER"
      ],
      "metadata": {
        "id": "ozwEsC5r2kw1"
      }
    },
    {
      "cell_type": "code",
      "source": [
        "t = calc_stat(wer)"
      ],
      "metadata": {
        "id": "y-YWJy4k0eVc"
      },
      "execution_count": null,
      "outputs": []
    },
    {
      "cell_type": "markdown",
      "source": [
        "##Calculate CER"
      ],
      "metadata": {
        "id": "e9DeWcpP2wYb"
      }
    },
    {
      "cell_type": "code",
      "source": [
        "t = calc_stat(cer)"
      ],
      "metadata": {
        "id": "vUyVDaHC2puo"
      },
      "execution_count": null,
      "outputs": []
    },
    {
      "cell_type": "markdown",
      "source": [
        "##Calculate Percentage Decrease"
      ],
      "metadata": {
        "id": "iPI50yx0wv47"
      }
    },
    {
      "cell_type": "code",
      "source": [
        "for key in t:\n",
        "  print(key)\n",
        "  inc = (t[key][0]-t[key][1])/t[key][0]\n",
        "  print(inc*100)"
      ],
      "metadata": {
        "id": "i4lCEQGDvEi3"
      },
      "execution_count": null,
      "outputs": []
    },
    {
      "cell_type": "code",
      "source": [
        "len(trans_dict['short'])"
      ],
      "metadata": {
        "id": "QVjc1iEn5Wf5"
      },
      "execution_count": null,
      "outputs": []
    }
  ]
}