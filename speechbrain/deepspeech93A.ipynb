{
  "nbformat": 4,
  "nbformat_minor": 0,
  "metadata": {
    "colab": {
      "name": "deepspeechA.ipynb",
      "provenance": [],
      "collapsed_sections": []
    },
    "kernelspec": {
      "name": "python3",
      "display_name": "Python 3"
    },
    "language_info": {
      "name": "python"
    },
    "accelerator": "GPU"
  },
  "cells": [
    {
      "cell_type": "code",
      "metadata": {
        "id": "KGZ1qZXuEzBV"
      },
      "source": [
        "from google.colab import drive\n",
        "drive.mount('/content/drive/')\n",
        "%cd drive/MyDrive/IW06-07/"
      ],
      "execution_count": null,
      "outputs": []
    },
    {
      "cell_type": "code",
      "metadata": {
        "id": "8WlA6cwHEYE0"
      },
      "source": [
        "!pip3 install speechbrain\n",
        "!pip3 install deepspeech-gpu\n",
        "!pip3 install jiwer\n",
        "%pip install torchaudio==0.10.0+cu113 -f https://download.pytorch.org/whl/cu113/torch_stable.html"
      ],
      "execution_count": null,
      "outputs": []
    },
    {
      "cell_type": "code",
      "metadata": {
        "id": "LVpbPs3XLK9x"
      },
      "source": [
        "!curl -LO https://github.com/mozilla/DeepSpeech/releases/download/v0.9.3/deepspeech-0.9.3-models.pbmm\n",
        "!curl -LO https://github.com/mozilla/DeepSpeech/releases/download/v0.9.3/deepspeech-0.9.3-models.scorer"
      ],
      "execution_count": null,
      "outputs": []
    },
    {
      "cell_type": "code",
      "metadata": {
        "id": "H0hstOHUElAJ"
      },
      "source": [
        "import deepspeech\n",
        "import wave\n",
        "import numpy as np\n",
        "import torch\n",
        "import torchaudio\n",
        "from speechbrain.pretrained import SpectralMaskEnhancement\n",
        "from jiwer import compute_measures"
      ],
      "execution_count": null,
      "outputs": []
    },
    {
      "cell_type": "markdown",
      "metadata": {
        "id": "yFAjAQh_RZT2"
      },
      "source": [
        "Deepspeech model"
      ]
    },
    {
      "cell_type": "code",
      "metadata": {
        "id": "R3yFO45JF0ae"
      },
      "source": [
        "model_file_path = 'deepspeech-0.9.3-models.pbmm'\n",
        "model = deepspeech.Model(model_file_path)\n",
        "scorer_file_path = 'deepspeech-0.9.3-models.scorer'\n",
        "model.enableExternalScorer(scorer_file_path)\n",
        "lm_alpha = 0.931289039105002\n",
        "lm_beta = 1.1834137581510284\n",
        "model.setScorerAlphaBeta(lm_alpha, lm_beta)"
      ],
      "execution_count": null,
      "outputs": []
    },
    {
      "cell_type": "code",
      "metadata": {
        "id": "vU3Svy3LuL7x"
      },
      "source": [
        "def convert(model, audio):\n",
        "  w = wave.open(audio, 'r')\n",
        "  assert int(w.getframerate()) == 16000\n",
        "  data = np.frombuffer(w.readframes(w.getnframes()), dtype=np.int16)\n",
        "  return model.stt(data)\n",
        "def diff(o, a, e):\n",
        "  return compute_measures(o, a), compute_measures(o, e)"
      ],
      "execution_count": null,
      "outputs": []
    },
    {
      "cell_type": "markdown",
      "metadata": {
        "id": "O0X3iQrYRm_9"
      },
      "source": [
        "Speech Enhancement Model"
      ]
    },
    {
      "cell_type": "code",
      "metadata": {
        "id": "vDYxYwCVRmoJ"
      },
      "source": [
        "enhance_model = SpectralMaskEnhancement.from_hparams(\n",
        "    source=\"speechbrain/metricgan-plus-voicebank\",\n",
        "    savedir=\"pretrained_models/metricgan-plus-voicebank\",\n",
        "    run_opts={\"device\":\"cuda\"},\n",
        ")"
      ],
      "execution_count": null,
      "outputs": []
    },
    {
      "cell_type": "markdown",
      "metadata": {
        "id": "-s7ZQrctV9Es"
      },
      "source": [
        "Adversarial Dataset A Parsing"
      ]
    },
    {
      "cell_type": "code",
      "metadata": {
        "id": "7W5AmUvhR22g"
      },
      "source": [
        "def call_enhance_wer(audio_files, original_signal, adv_signals, enhanced_path):\n",
        "  # long, medium, short\n",
        "  for audio in audio_files:\n",
        "    o_file = original_signal + audio\n",
        "    ori = convert(model, o_file)\n",
        "    for i, post in enumerate(['long', 'medium', 'short']):\n",
        "      a_file = adv_signals[i] + audio\n",
        "      noisy = enhance_model.load_audio(a_file).unsqueeze(0)\n",
        "      enhanced = enhance_model.enhance_batch(noisy, lengths=torch.tensor([1.]))\n",
        "      enh_name = enhanced_path + post + '/enhanced-' + audio\n",
        "      torchaudio.save(enh_name, enhanced.cpu(), sample_rate=16000, bits_per_sample=16)\n",
        "\n",
        "      enh = convert(model, enh_name)\n",
        "      adv = convert(model, a_file)\n",
        "      editors[i].write(ori + ', ' + adv + ', ' + enh + '\\n')\n",
        "      \n",
        "      stats_adv, stats_enh = diff(ori, adv, enh)\n",
        "      edit_stats_adv[i].append(stats_adv)\n",
        "      edit_stats_enh[i].append(stats_enh)\n",
        "      average_wer_adv[i] += stats_adv['wer']\n",
        "      average_wer_enh[i] += stats_enh['wer']"
      ],
      "execution_count": null,
      "outputs": []
    },
    {
      "cell_type": "code",
      "metadata": {
        "id": "iUj5XP9zV_zv"
      },
      "source": [
        "long_signal = './adversarial_dataset-A/Adversarial-Examples/long-signals'\n",
        "long_signals_ori = long_signal + '/Original-examples/sample-'\n",
        "long_signals_adv = [long_signal + '/adv-long-target/adv-long2long-', long_signal + '/adv-medium-target/adv-long2medium-', long_signal + '/adv-short-target/adv-long2short-']\n",
        "\n",
        "medium_signal = './adversarial_dataset-A/Adversarial-Examples/medium-signals'\n",
        "medium_signals_ori = medium_signal + '/Original-examples/sample-'\n",
        "medium_signals_adv = [medium_signal + '/adv-long-target/adv-medium2long-', medium_signal + '/adv-medium-target/adv-medium2medium-', medium_signal + '/adv-short-target/adv-medium2short-']\n",
        "\n",
        "short_signal = './adversarial_dataset-A/Adversarial-Examples/short-signals'\n",
        "short_signals_ori = short_signal + '/Original-examples/sample-'\n",
        "short_signals_adv = [short_signal + '/adv-long-target/adv-short2long-', short_signal + '/adv-medium-target/adv-short2medium-', short_signal + '/adv-short-target/adv-short2short-']"
      ],
      "execution_count": null,
      "outputs": []
    },
    {
      "cell_type": "markdown",
      "metadata": {
        "id": "jqUAkWs10EU7"
      },
      "source": [
        "## Define short constants"
      ]
    },
    {
      "cell_type": "code",
      "metadata": {
        "id": "Sjx33uV4i4qG"
      },
      "source": [
        "enhanced_path = './enhanced/baseline/short/'\n",
        "shortf = open(\"short\")\n",
        "shortfs = shortf.read().split()\n",
        "shortf.close()"
      ],
      "execution_count": null,
      "outputs": []
    },
    {
      "cell_type": "markdown",
      "metadata": {
        "id": "QJXHlHyrz7xk"
      },
      "source": [
        "## Define long constants"
      ]
    },
    {
      "cell_type": "code",
      "metadata": {
        "id": "5-j_HmSv0Oco"
      },
      "source": [
        "enhanced_path = './enhanced/baseline/long/'\n",
        "longf = open(\"long\")\n",
        "longfs = longf.read().split()\n",
        "longf.close()"
      ],
      "execution_count": null,
      "outputs": []
    },
    {
      "cell_type": "markdown",
      "metadata": {
        "id": "0lp2l8RGVyzk"
      },
      "source": [
        "## Define medium constants"
      ]
    },
    {
      "cell_type": "code",
      "metadata": {
        "id": "OrOUImUUV1Dz"
      },
      "source": [
        "enhanced_path = './enhanced/baseline/medium/'\n",
        "mediumf = open(\"medium\")\n",
        "mediumfs = mediumf.read().split()\n",
        "mediumf.close()"
      ],
      "execution_count": null,
      "outputs": []
    },
    {
      "cell_type": "markdown",
      "metadata": {
        "id": "k1ehsR7FW5MN"
      },
      "source": [
        "## Call models"
      ]
    },
    {
      "cell_type": "code",
      "metadata": {
        "id": "t6gxSYGZqDHn"
      },
      "source": [
        "edit_stats_adv = [[], [], []]\n",
        "edit_stats_enh = [[], [], []]\n",
        "average_wer_adv = [0, 0, 0]\n",
        "average_wer_enh = [0, 0, 0]"
      ],
      "execution_count": null,
      "outputs": []
    },
    {
      "cell_type": "code",
      "metadata": {
        "id": "lD_4cVTys92q"
      },
      "source": [
        "editors = [open(enhanced_path + 'long/translation', 'w+'), open(enhanced_path + 'medium/translation', 'w+'), open(enhanced_path + 'short/translation', 'w+')]"
      ],
      "execution_count": null,
      "outputs": []
    },
    {
      "cell_type": "code",
      "metadata": {
        "id": "EsRhHrTpWejh"
      },
      "source": [
        "call_enhance_wer(mediumfs, medium_signals_ori, medium_signals_adv, enhanced_path)"
      ],
      "execution_count": null,
      "outputs": []
    },
    {
      "cell_type": "code",
      "metadata": {
        "id": "IrR72h6zhqLQ"
      },
      "source": [
        "print(enhanced_path)"
      ],
      "execution_count": null,
      "outputs": []
    },
    {
      "cell_type": "code",
      "metadata": {
        "id": "cff7pDcZv7Lb"
      },
      "source": [
        "for editor in editors:\n",
        "  editor.close()"
      ],
      "execution_count": null,
      "outputs": []
    },
    {
      "cell_type": "code",
      "metadata": {
        "id": "lHp7sJf-xP2q"
      },
      "source": [
        "short_stats = open(enhanced_path + 'stats', 'w+')\n",
        "short_stats.write(str(edit_stats_adv)+'\\n')\n",
        "short_stats.write(str(edit_stats_enh)+'\\n')\n",
        "short_stats.write(str(len(shortfs))+'\\n')\n",
        "short_stats.write(str(average_wer_adv)+'\\n')\n",
        "short_stats.write(str(average_wer_enh)+'\\n')"
      ],
      "execution_count": null,
      "outputs": []
    },
    {
      "cell_type": "code",
      "metadata": {
        "id": "kVjSK27TzRud"
      },
      "source": [
        "short_stats.close()"
      ],
      "execution_count": null,
      "outputs": []
    },
    {
      "cell_type": "code",
      "metadata": {
        "id": "F1cy_M_MioHZ"
      },
      "source": [
        "a = [0, 0, 0]\n",
        "e = [0, 0, 0]\n",
        "for i in range(len(adv)):\n",
        "  for j in range(len(adv[i])):\n",
        "    a[i] += adv[i][j]['wer']\n",
        "    e[i] += enh[i][j]['wer']"
      ],
      "execution_count": null,
      "outputs": []
    },
    {
      "cell_type": "code",
      "metadata": {
        "id": "nBixvFxTjI_Q"
      },
      "source": [
        "print(a)\n",
        "print(e)"
      ],
      "execution_count": null,
      "outputs": []
    }
  ]
}